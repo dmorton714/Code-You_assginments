{
  "nbformat": 4,
  "nbformat_minor": 0,
  "metadata": {
    "colab": {
      "provenance": [],
      "authorship_tag": "ABX9TyMghdMVSE3AvmboPkPN+2ni",
      "include_colab_link": true
    },
    "kernelspec": {
      "name": "python3",
      "display_name": "Python 3"
    },
    "language_info": {
      "name": "python"
    }
  },
  "cells": [
    {
      "cell_type": "markdown",
      "metadata": {
        "id": "view-in-github",
        "colab_type": "text"
      },
      "source": [
        "<a href=\"https://colab.research.google.com/github/dmorton714/Code-You_assginments/blob/main/Week_2.ipynb\" target=\"_parent\"><img src=\"https://colab.research.google.com/assets/colab-badge.svg\" alt=\"Open In Colab\"/></a>"
      ]
    },
    {
      "cell_type": "markdown",
      "source": [
        "# week 2\n",
        "\n",
        "- [Lists](#Lists)\n",
        "- [For Loops](#For_Loops)\n",
        "- [Slicing](#Slicking)\n",
        "- [Links](#Links)"
      ],
      "metadata": {
        "id": "bhBCSKvmCXlN"
      }
    },
    {
      "cell_type": "markdown",
      "source": [
        "<a id=\"Lists\"></a>\n",
        "## Lists"
      ],
      "metadata": {
        "id": "OVBbQhRTZr9_"
      }
    },
    {
      "cell_type": "markdown",
      "source": [
        "Lists are used to store multiple items in a single variable.\n",
        "\n",
        "Lists are 1 of 4 built-in data types in Python used to store collections of data. The all have different qualities and usage.\n",
        "The others are:\n",
        " - Tuple\n",
        " - Sets\n",
        " - Dictionary"
      ],
      "metadata": {
        "id": "Z3VGDk6JCl2p"
      }
    },
    {
      "cell_type": "markdown",
      "source": [
        "First lets review a little from last week.\n",
        "- Make a variable `A` `B` `C`\n",
        "- Assign them the valeus `1` `2` `3`\n",
        "- Make `A` a `Float`\n",
        "- `B` & `C` an `int`  "
      ],
      "metadata": {
        "id": "CZqRB13XOm7X"
      }
    },
    {
      "cell_type": "code",
      "source": [
        "A = float(1)\n",
        "B = int(2)\n",
        "C = int(3)"
      ],
      "metadata": {
        "id": "oYe_t8z1CkCR"
      },
      "execution_count": null,
      "outputs": []
    },
    {
      "cell_type": "markdown",
      "source": [
        "Now Lets put `A` `B` `C` into a list names `my_list`\n",
        "<br>\n",
        "`print()` your list to verify it is correct."
      ],
      "metadata": {
        "id": "QNdHWWFODT6p"
      }
    },
    {
      "cell_type": "code",
      "source": [
        "my_list = [A, B, C]\n",
        "print(my_list)"
      ],
      "metadata": {
        "id": "FIlEJNaDDhye",
        "colab": {
          "base_uri": "https://localhost:8080/"
        },
        "outputId": "730275e1-d65b-407c-9d0e-d37739fcfa6f"
      },
      "execution_count": null,
      "outputs": [
        {
          "output_type": "stream",
          "name": "stdout",
          "text": [
            "[1.0, 2, 3]\n"
          ]
        }
      ]
    },
    {
      "cell_type": "markdown",
      "source": [
        "As you can see it printed the values we stored in `A` `B` `C`.\n",
        "<br>\n",
        "As you can see list can store just about anything.\n",
        "\n",
        "- Integers: Whole numbers without any decimal point, such as 1, 42, -10.\n",
        "- Floats: Real numbers with a decimal point, such as 3.14, 2.718, -0.5.\n",
        "- Strings: Textual data enclosed in single (') or double (\") quotes, such as 'hello', \"Python\", '123'.\n",
        "- Booleans: Logical values representing either `True` or `False`.\n",
        "- Other Lists: Lists can contain other lists as elements, allowing for nested data structures.\n",
        "- Tuples: Immutable sequences of elements, similar to lists but enclosed in parentheses (()).\n",
        "- Dictionaries: Key-value pairs enclosed in curly braces ({}), allowing for mapping between keys and values.\n",
        "- Sets: Unordered collections of unique elements, enclosed in curly braces ({}), useful for operations like union, intersection, and difference.\n",
        "\n",
        "**example below of each**\n",
        "\n",
        "``` python\n",
        "my_list = [1, 3.14, 'hello', True, [5, 6], (7, 8), {'name': 'Alice', 'age': 30}, {1, 2, 3}]\n",
        "\n",
        "```"
      ],
      "metadata": {
        "id": "eL2l8tARDlaV"
      }
    },
    {
      "cell_type": "markdown",
      "source": [
        "Lets not explore a couple other things we can do with a list.\n",
        "\n",
        "- Lets get the length of `my_list`\n",
        "- use the `len()` function to this"
      ],
      "metadata": {
        "id": "cs0F0Nb7SaB9"
      }
    },
    {
      "cell_type": "code",
      "source": [
        "len(my_list)"
      ],
      "metadata": {
        "colab": {
          "base_uri": "https://localhost:8080/"
        },
        "id": "R-5XhkYcD-dT",
        "outputId": "05e8693c-1e4a-42f5-fbae-000f8f23e757"
      },
      "execution_count": null,
      "outputs": [
        {
          "output_type": "execute_result",
          "data": {
            "text/plain": [
              "3"
            ]
          },
          "metadata": {},
          "execution_count": 4
        }
      ]
    },
    {
      "cell_type": "markdown",
      "source": [
        "We can also use the  `type()` function on the list.\n",
        "\n",
        "If we do this to the list itself it will return that it is a list. <br> More importantly we can find the type of a particular item in the list.\n",
        "\n",
        "- Use the `type()` function on `my_list`\n",
        "- use `[]` square brackets to find the values type in index `1`"
      ],
      "metadata": {
        "id": "5NJpQ0LwHX7a"
      }
    },
    {
      "cell_type": "code",
      "source": [
        "type(my_list[1])"
      ],
      "metadata": {
        "colab": {
          "base_uri": "https://localhost:8080/"
        },
        "id": "7VLjV5uAHYGy",
        "outputId": "fbde8ab7-6c89-4680-e7da-de27d2580701"
      },
      "execution_count": null,
      "outputs": [
        {
          "output_type": "execute_result",
          "data": {
            "text/plain": [
              "int"
            ]
          },
          "metadata": {},
          "execution_count": 6
        }
      ]
    },
    {
      "cell_type": "markdown",
      "source": [
        "In Python, indexing is zero-based, which means that the first element in a sequence has an index of 0, the second element has an index of 1, and so on. This applies to lists, tuples, strings, and other ordered collections.\n"
      ],
      "metadata": {
        "id": "UZ72edHiEfep"
      }
    },
    {
      "cell_type": "code",
      "source": [
        "print(my_list[0])  # Output: 1.0\n",
        "print(my_list[1])  # Output: 2\n",
        "print(my_list[2])  # Output: 3"
      ],
      "metadata": {
        "colab": {
          "base_uri": "https://localhost:8080/"
        },
        "id": "IzWW6mJgVSvB",
        "outputId": "647b9070-f98c-4027-a247-5a1b4a2956d6"
      },
      "execution_count": null,
      "outputs": [
        {
          "output_type": "stream",
          "name": "stdout",
          "text": [
            "1.0\n",
            "2\n",
            "3\n"
          ]
        }
      ]
    },
    {
      "cell_type": "markdown",
      "source": [
        "\n",
        "\n",
        "---\n",
        "\n"
      ],
      "metadata": {
        "id": "dBVwGacQVdO5"
      }
    },
    {
      "cell_type": "markdown",
      "source": [
        "<a id=\"#For_Loops\"></a>\n",
        "## For Loops"
      ],
      "metadata": {
        "id": "fFPSw82EHRCE"
      }
    },
    {
      "cell_type": "markdown",
      "source": [
        "A `for` loop is used for iterating over a sequence.\n",
        "\n",
        "That is either a:\n",
        "- list\n",
        "- tuple\n",
        "- dictionary\n",
        "- set\n",
        "- string"
      ],
      "metadata": {
        "id": "Cb-q46yiH1FU"
      }
    },
    {
      "cell_type": "markdown",
      "source": [
        "Lets make a for loop to print `my_list`\n",
        "- start with `for`\n",
        "- the we will add `number in my_list:`.\n",
        "- `for number in my_list:` is the line that starts the loop. It means \"for each number in my_list, do something\".\n",
        "- Then hit enter on the next like type `print(number)`\n",
        "- print(number) is the indented line inside the loop. It gets executed for each number in my_list.\n",
        "- It then prints each number to the screen.\n"
      ],
      "metadata": {
        "id": "ZDcvmdcBeP86"
      }
    },
    {
      "cell_type": "code",
      "source": [
        "for number in my_list:\n",
        "  print(number)"
      ],
      "metadata": {
        "id": "x4DF2zeDMEim",
        "colab": {
          "base_uri": "https://localhost:8080/"
        },
        "outputId": "7036ab65-75c7-45b4-dc93-8c6c16edd8ab"
      },
      "execution_count": null,
      "outputs": [
        {
          "output_type": "stream",
          "name": "stdout",
          "text": [
            "1.0\n",
            "2\n",
            "3\n"
          ]
        }
      ]
    },
    {
      "cell_type": "markdown",
      "source": [
        "Building off last week lets add us a conditional to the for loop.\n",
        "Lets add the conditional of if number is equal to 3 we will break the loop.\n",
        "\n",
        "- Copy your loop from above\n",
        "- Make a new line after the `for` statement and above `print`\n",
        "- Indent and add `if number == 3:\n",
        "- on a line under that indent and put `break`\n",
        "- `if` and `print` should be indented one space\n",
        "- `break` should be 2 spaces"
      ],
      "metadata": {
        "id": "e4M-0bGEjlsA"
      }
    },
    {
      "cell_type": "code",
      "source": [
        "for number in my_list:\n",
        "  if number == 3:\n",
        "    break\n",
        "  print(number)"
      ],
      "metadata": {
        "colab": {
          "base_uri": "https://localhost:8080/"
        },
        "id": "hwvEhet5gETL",
        "outputId": "342e2572-05f1-42c7-eb27-9d29435aeb58"
      },
      "execution_count": null,
      "outputs": [
        {
          "output_type": "stream",
          "name": "stdout",
          "text": [
            "1.0\n",
            "2\n"
          ]
        }
      ]
    },
    {
      "cell_type": "markdown",
      "source": [
        "Here is a practical application of a `for loop` used to Validate a users name. It verifies they didn't add any symbols. Then says hello to them."
      ],
      "metadata": {
        "id": "b5uY29WnmVDI"
      }
    },
    {
      "cell_type": "code",
      "source": [
        "# Maximum number of attempts\n",
        "max_attempts = 3\n",
        "\n",
        "# Ask the user for their name and validate it\n",
        "for _ in range(max_attempts):\n",
        "    users_name = input(\"Please enter your name and hit enter when finished: \")\n",
        "    if users_name.replace(\" \", \"\").isalpha():\n",
        "        print(\"Hello\", users_name)\n",
        "        break\n",
        "    else:\n",
        "        print(\"Invalid input. Please enter only alphabetic characters and spaces.\")\n",
        "else:\n",
        "    print(\"Maximum attempts reached. Please try again later.\")"
      ],
      "metadata": {
        "colab": {
          "base_uri": "https://localhost:8080/"
        },
        "id": "Dn8qF_yDNvoZ",
        "outputId": "348faa64-b29c-424c-c025-0f20c89b9a34"
      },
      "execution_count": null,
      "outputs": [
        {
          "output_type": "stream",
          "name": "stdout",
          "text": [
            "Please enter your name and hit enter when finished: apple jacks the 3rd\n",
            "Invalid input. Please enter only alphabetic characters and spaces.\n",
            "Please enter your name and hit enter when finished: \n",
            "Invalid input. Please enter only alphabetic characters and spaces.\n",
            "Please enter your name and hit enter when finished: a\n",
            "Hello a\n"
          ]
        }
      ]
    },
    {
      "cell_type": "markdown",
      "source": [
        "While for loops may seem complex at first glance, breaking them down into smaller pieces makes them more manageable and easier to understand.\n",
        "\n",
        "---\n",
        "\n"
      ],
      "metadata": {
        "id": "32VasFXkOjiP"
      }
    },
    {
      "cell_type": "markdown",
      "source": [
        "<a id=\"Slicing\"></a>\n",
        "## Slicing\n"
      ],
      "metadata": {
        "id": "e78LunrGPBG0"
      }
    },
    {
      "cell_type": "markdown",
      "source": [
        "Sometimes you don't want to use all the data in a list dictionary ect. So sometimes we take a slice of that data.\n",
        "- We will use `my_list` for our example\n",
        "- we use the `[]` square brackets to slice the data\n",
        "- we will also use `:` a colon between the numbers\n",
        "- slice `my_list` from `[0:1]`\n",
        "- Print the slice"
      ],
      "metadata": {
        "id": "OIbaOwPiQKXu"
      }
    },
    {
      "cell_type": "code",
      "source": [
        "print(my_list[0:1])"
      ],
      "metadata": {
        "id": "uu_HCYptQrps",
        "colab": {
          "base_uri": "https://localhost:8080/"
        },
        "outputId": "9bc09d53-06a4-4263-99bc-e9364553fc81"
      },
      "execution_count": null,
      "outputs": [
        {
          "output_type": "stream",
          "name": "stdout",
          "text": [
            "[1.0]\n"
          ]
        }
      ]
    },
    {
      "cell_type": "markdown",
      "source": [
        "You can also take slices from words or sentences.\n",
        "- assign this sentence to the variable fox\n",
        "  - The quick brown fox jumps over the lazy dog\n",
        "- Print the index of  3-15."
      ],
      "metadata": {
        "id": "Okul_jknRCfK"
      }
    },
    {
      "cell_type": "code",
      "source": [
        "fox = \"The quick brown fox jumps over the lazy dog\"\n",
        "print(fox[3:15])"
      ],
      "metadata": {
        "colab": {
          "base_uri": "https://localhost:8080/"
        },
        "id": "nbyDGyJvVeBT",
        "outputId": "204ecbd5-495d-4f71-9491-578564ba2650"
      },
      "execution_count": null,
      "outputs": [
        {
          "output_type": "stream",
          "name": "stdout",
          "text": [
            " quick brown\n"
          ]
        }
      ]
    },
    {
      "cell_type": "markdown",
      "source": [
        "<a id=\"Links\"></a>\n",
        "## Links\n",
        "\n",
        "[Lists](https://www.w3schools.com/python/python_lists.asp)\n",
        "<br>\n",
        "[For Loops](https://www.w3schools.com/python/python_for_loops.asp)\n",
        "<br>\n",
        "[Slice](https://www.w3schools.com/python/python_strings_slicing.asp)"
      ],
      "metadata": {
        "id": "i7gf6CjrY5St"
      }
    },
    {
      "cell_type": "markdown",
      "source": [
        "\n",
        "\n",
        "---\n",
        "\n",
        "# END\n",
        "\n",
        "\n",
        "\n",
        "---\n",
        "\n"
      ],
      "metadata": {
        "id": "KrhPMubAYWJI"
      }
    }
  ]
}