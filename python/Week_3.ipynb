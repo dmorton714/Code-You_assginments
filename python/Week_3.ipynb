{
  "nbformat": 4,
  "nbformat_minor": 0,
  "metadata": {
    "colab": {
      "provenance": [],
      "authorship_tag": "ABX9TyN18/y9iu6Ed3v1sxnTVE7d",
      "include_colab_link": true
    },
    "kernelspec": {
      "name": "python3",
      "display_name": "Python 3"
    },
    "language_info": {
      "name": "python"
    }
  },
  "cells": [
    {
      "cell_type": "markdown",
      "metadata": {
        "id": "view-in-github",
        "colab_type": "text"
      },
      "source": [
        "<a href=\"https://colab.research.google.com/github/dmorton714/Code-You_assginments/blob/main/Week_3.ipynb\" target=\"_parent\"><img src=\"https://colab.research.google.com/assets/colab-badge.svg\" alt=\"Open In Colab\"/></a>"
      ]
    },
    {
      "cell_type": "markdown",
      "source": [
        "# week 3\n",
        "\n",
        "- [Even or Odd](#even_or_odd)\n",
        "- [Links](#Links)"
      ],
      "metadata": {
        "id": "bhBCSKvmCXlN"
      }
    },
    {
      "cell_type": "markdown",
      "source": [
        "<a id=\"even_or_odd\"></a>\n",
        "## Even or Odd"
      ],
      "metadata": {
        "id": "OVBbQhRTZr9_"
      }
    },
    {
      "cell_type": "markdown",
      "source": [
        "Similar to the Fizz Buzz exercise we are going to write a short application to display if a number is even or odd."
      ],
      "metadata": {
        "id": "oOxAJ70H3chk"
      }
    },
    {
      "cell_type": "markdown",
      "source": [
        "- Start by creating an empty dictionary named result to store the values.\n",
        "- Name the dictionary `results`\n",
        "- Loop using `range()` function: Begin a for loop using the `range()` function to iterate over **15** numbers.  \n",
        "- The next line we want to start the `if` condition\n",
        "- Check for evenness: Inside the loop, check if each number is divisible by 2 using the `%` operator.\n",
        "- The next line should store the `result`\n",
        "- Store result for even numbers: If the number is even, store the `result` in the *dictionary* with the number as the key and the value as \"even\".\n",
        "- Now we can handle the odd numbers with the `else` condition\n",
        "- Handle odd numbers: If the number is not even (i.e., odd), store the `result` in the *dictionary* with the number as the key and the value as \"odd\"."
      ],
      "metadata": {
        "id": "QNdHWWFODT6p"
      }
    },
    {
      "cell_type": "code",
      "source": [
        "result = {}\n",
        "\n",
        "for number in range(16):\n",
        "    if number % 2 == 0:\n",
        "        result[number] = \"even\"\n",
        "    else:\n",
        "        result[number] = \"odd\"\n",
        "\n",
        "print(result)"
      ],
      "metadata": {
        "id": "FIlEJNaDDhye",
        "colab": {
          "base_uri": "https://localhost:8080/"
        },
        "outputId": "138756ef-870e-4353-a301-aa666fef0ac7"
      },
      "execution_count": 2,
      "outputs": [
        {
          "output_type": "stream",
          "name": "stdout",
          "text": [
            "{0: 'even', 1: 'odd', 2: 'even', 3: 'odd', 4: 'even', 5: 'odd', 6: 'even', 7: 'odd', 8: 'even', 9: 'odd', 10: 'even', 11: 'odd', 12: 'even', 13: 'odd', 14: 'even', 15: 'odd'}\n"
          ]
        }
      ]
    },
    {
      "cell_type": "markdown",
      "source": [
        "Lets take this a step further. The script does what we want but lets append the results to a even and odd list.\n",
        "\n",
        "- Copy your code from above\n",
        "- Delete the old result dictionary.\n",
        "- Replace it with 2 lists `even_numbers` & `odd_numbers`\n",
        "- we will be replacing the lines `result[number] = \"even\"` & `result[number] = \"odd\"`\n",
        "- we will use the function `append()` at add `number` to the 2 new lists we made\n",
        "- Now `print()``Even numbers:` and our even_numbers list.\n",
        "- Do the same for the odd numbers."
      ],
      "metadata": {
        "id": "z3rxZZFn5DAG"
      }
    },
    {
      "cell_type": "code",
      "source": [
        "even_numbers = []\n",
        "odd_numbers = []\n",
        "\n",
        "for number in range(16):\n",
        "    if number % 2 == 0:\n",
        "        even_numbers.append(number)\n",
        "    else:\n",
        "        odd_numbers.append(number)\n",
        "\n",
        "print(\"Even numbers:\", even_numbers)\n",
        "print(\"Odd numbers:\", odd_numbers)\n"
      ],
      "metadata": {
        "colab": {
          "base_uri": "https://localhost:8080/"
        },
        "id": "-sInl9yB5cpq",
        "outputId": "f617e6e0-0e9e-40dc-dc4c-d2afc7f54ffc"
      },
      "execution_count": 3,
      "outputs": [
        {
          "output_type": "stream",
          "name": "stdout",
          "text": [
            "Even numbers: [0, 2, 4, 6, 8, 10, 12, 14]\n",
            "Odd numbers: [1, 3, 5, 7, 9, 11, 13, 15]\n"
          ]
        }
      ]
    },
    {
      "cell_type": "markdown",
      "source": [
        "Finally lets put the 2 lists int a dictionary.\n",
        "- Call the dictionary `numbers_dict`\n",
        "- the key value pairs are `\"even\": even_numbers` & `\"odd\": odd_numbers`\n",
        "- Finally `print()` the dictionary `numbers_dict`"
      ],
      "metadata": {
        "id": "h7rlilj06hdg"
      }
    },
    {
      "cell_type": "code",
      "source": [
        "numbers_dict = {\"even\": even_numbers, \"odd\": odd_numbers}\n",
        "\n",
        "print(numbers_dict)"
      ],
      "metadata": {
        "id": "5uIi03-H6E0g",
        "outputId": "07a2ed02-c1e1-483a-e7fa-bb14e7c2b363",
        "colab": {
          "base_uri": "https://localhost:8080/"
        }
      },
      "execution_count": 4,
      "outputs": [
        {
          "output_type": "stream",
          "name": "stdout",
          "text": [
            "{'even': [0, 2, 4, 6, 8, 10, 12, 14], 'odd': [1, 3, 5, 7, 9, 11, 13, 15]}\n"
          ]
        }
      ]
    },
    {
      "cell_type": "markdown",
      "source": [
        "<a id=\"Links\"></a>\n",
        "## Links\n",
        "\n",
        "[List Comprehension](https://www.w3schools.com/python/python_lists_comprehension.asp)"
      ],
      "metadata": {
        "id": "i7gf6CjrY5St"
      }
    },
    {
      "cell_type": "markdown",
      "source": [
        "## Recap on what we have learned\n",
        "\n",
        "- This assignment demonstrates a practical application of using loops and conditional statements to organize numbers based on whether they are even or odd. By iterating through a range of numbers from 0 to 15. Then appending them to lists.\n",
        "\n",
        "- Learning to organize data in this way is valuable because it provides a foundation for more complex data manipulation tasks in programming. Imagine you have a large dataset containing various types of information, and you need to categorize or filter that data based on certain criteria. Understanding how to use loops and conditional statements allows you to automate these tasks efficiently.\n",
        "\n",
        "- In practical scenarios, you might encounter situations where you need to process large sets of data, such as analyzing customer orders, sorting inventory items, or filtering sensor readings. By applying the principles demonstrated in this code example, you can write programs to handle such tasks effectively, saving time and reducing the likelihood of errors."
      ],
      "metadata": {
        "id": "4-N_WiAj_XSs"
      }
    },
    {
      "cell_type": "markdown",
      "source": [
        "\n",
        "\n",
        "---\n",
        "\n",
        "# END\n",
        "\n",
        "\n",
        "\n",
        "---\n",
        "\n"
      ],
      "metadata": {
        "id": "KrhPMubAYWJI"
      }
    }
  ]
}