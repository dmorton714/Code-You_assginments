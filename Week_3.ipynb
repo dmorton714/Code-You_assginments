{
  "nbformat": 4,
  "nbformat_minor": 0,
  "metadata": {
    "colab": {
      "provenance": [],
      "authorship_tag": "ABX9TyOOByi0p5so0N+sy/K9JDth",
      "include_colab_link": true
    },
    "kernelspec": {
      "name": "python3",
      "display_name": "Python 3"
    },
    "language_info": {
      "name": "python"
    }
  },
  "cells": [
    {
      "cell_type": "markdown",
      "metadata": {
        "id": "view-in-github",
        "colab_type": "text"
      },
      "source": [
        "<a href=\"https://colab.research.google.com/github/dmorton714/Code-You_assginments/blob/main/Week_3.ipynb\" target=\"_parent\"><img src=\"https://colab.research.google.com/assets/colab-badge.svg\" alt=\"Open In Colab\"/></a>"
      ]
    },
    {
      "cell_type": "markdown",
      "source": [
        "# week 3\n",
        "\n",
        "- [Even or Odd](#even_or_odd)\n",
        "- [For Loops](#For_Loops)\n",
        "- [Slicing](#Slicking)\n",
        "- [Links](#Links)"
      ],
      "metadata": {
        "id": "bhBCSKvmCXlN"
      }
    },
    {
      "cell_type": "markdown",
      "source": [
        "<a id=\"even_or_odd\"></a>\n",
        "## Even or Odd"
      ],
      "metadata": {
        "id": "OVBbQhRTZr9_"
      }
    },
    {
      "cell_type": "markdown",
      "source": [
        "Similar to the Fizz Buzz exercise we are going to write a short application to display if a number is even or odd."
      ],
      "metadata": {
        "id": "oOxAJ70H3chk"
      }
    },
    {
      "cell_type": "markdown",
      "source": [
        "lets make a list of number\n",
        "- we will make a for loop\n",
        "- if the number is divisible by 2 its even\n",
        "- otherwise its odd."
      ],
      "metadata": {
        "id": "QNdHWWFODT6p"
      }
    },
    {
      "cell_type": "code",
      "source": [
        "result = {}\n",
        "\n",
        "for number in range(16):\n",
        "    if number % 2 == 0:\n",
        "        result[number] = \"even\"\n",
        "    else:\n",
        "        result[number] = \"odd\"\n",
        "\n",
        "print(result)"
      ],
      "metadata": {
        "id": "FIlEJNaDDhye",
        "colab": {
          "base_uri": "https://localhost:8080/"
        },
        "outputId": "186fc5da-2c8a-4bd6-dbe8-3c9baef103da"
      },
      "execution_count": null,
      "outputs": [
        {
          "output_type": "stream",
          "name": "stdout",
          "text": [
            "{0: 'even', 1: 'odd', 2: 'even', 3: 'odd', 4: 'even', 5: 'odd', 6: 'even', 7: 'odd', 8: 'even', 9: 'odd', 10: 'even', 11: 'odd', 12: 'even', 13: 'odd', 14: 'even', 15: 'odd'}\n"
          ]
        }
      ]
    },
    {
      "cell_type": "markdown",
      "source": [
        "Lets take this a step further. The script does what we want but lets append the results to a even and odd list."
      ],
      "metadata": {
        "id": "z3rxZZFn5DAG"
      }
    },
    {
      "cell_type": "code",
      "source": [
        "even_numbers = []\n",
        "odd_numbers = []\n",
        "\n",
        "for number in range(16):\n",
        "    if number % 2 == 0:\n",
        "        even_numbers.append(number)\n",
        "    else:\n",
        "        odd_numbers.append(number)\n",
        "\n",
        "print(\"Even numbers:\", even_numbers)\n",
        "print(\"Odd numbers:\", odd_numbers)\n"
      ],
      "metadata": {
        "colab": {
          "base_uri": "https://localhost:8080/"
        },
        "id": "-sInl9yB5cpq",
        "outputId": "480b55e8-acc4-488f-a3eb-652a3317fdc3"
      },
      "execution_count": null,
      "outputs": [
        {
          "output_type": "stream",
          "name": "stdout",
          "text": [
            "Even numbers: [0, 2, 4, 6, 8, 10, 12, 14]\n",
            "Odd numbers: [1, 3, 5, 7, 9, 11, 13, 15]\n"
          ]
        }
      ]
    },
    {
      "cell_type": "code",
      "source": [
        "numbers_dict = {\"even\": even_numbers, \"odd\": odd_numbers}\n",
        "\n",
        "print(numbers_dict)"
      ],
      "metadata": {
        "id": "5uIi03-H6E0g",
        "outputId": "d1b2684e-53c2-405a-9d33-a302841a03b0",
        "colab": {
          "base_uri": "https://localhost:8080/"
        }
      },
      "execution_count": null,
      "outputs": [
        {
          "output_type": "stream",
          "name": "stdout",
          "text": [
            "{'even': [0, 2, 4, 6, 8, 10, 12, 14], 'odd': [1, 3, 5, 7, 9, 11, 13, 15]}\n"
          ]
        }
      ]
    },
    {
      "cell_type": "markdown",
      "source": [
        "<a id=\"Links\"></a>\n",
        "## Links\n",
        "\n",
        "[Lists](https://www.w3schools.com/python/python_lists.asp)\n",
        "<br>\n",
        "[For Loops](https://www.w3schools.com/python/python_for_loops.asp)\n",
        "<br>\n",
        "[Slice](https://www.w3schools.com/python/python_strings_slicing.asp)"
      ],
      "metadata": {
        "id": "i7gf6CjrY5St"
      }
    },
    {
      "cell_type": "markdown",
      "source": [
        "\n",
        "\n",
        "---\n",
        "\n",
        "# END\n",
        "\n",
        "\n",
        "\n",
        "---\n",
        "\n"
      ],
      "metadata": {
        "id": "KrhPMubAYWJI"
      }
    }
  ]
}