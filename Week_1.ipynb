{
  "nbformat": 4,
  "nbformat_minor": 0,
  "metadata": {
    "colab": {
      "provenance": [],
      "authorship_tag": "ABX9TyO4Emxz4Sqiyaz1+90ONRQE",
      "include_colab_link": true
    },
    "kernelspec": {
      "name": "python3",
      "display_name": "Python 3"
    },
    "language_info": {
      "name": "python"
    }
  },
  "cells": [
    {
      "cell_type": "markdown",
      "metadata": {
        "id": "view-in-github",
        "colab_type": "text"
      },
      "source": [
        "<a href=\"https://colab.research.google.com/github/dmorton714/Code-You_assginments/blob/main/Week_1.ipynb\" target=\"_parent\"><img src=\"https://colab.research.google.com/assets/colab-badge.svg\" alt=\"Open In Colab\"/></a>"
      ]
    },
    {
      "cell_type": "markdown",
      "source": [
        "# week 1\n",
        "\n",
        "- [Variables](#Variables)\n",
        "- [Data Types](#Data_Types)\n",
        "- [Conditionals](#Conditionals)\n",
        "- [Links](#Links)"
      ],
      "metadata": {
        "id": "bhBCSKvmCXlN"
      }
    },
    {
      "cell_type": "markdown",
      "source": [
        "<a id=\"Variables\"></a>\n",
        "## Variables"
      ],
      "metadata": {
        "id": "OVBbQhRTZr9_"
      }
    },
    {
      "cell_type": "markdown",
      "source": [
        "In the code block below assign 40 to A.\n",
        "<br>\n",
        "Run the cell to verify your work."
      ],
      "metadata": {
        "id": "Z3VGDk6JCl2p"
      }
    },
    {
      "cell_type": "code",
      "source": [
        "A = 40"
      ],
      "metadata": {
        "id": "oYe_t8z1CkCR"
      },
      "execution_count": null,
      "outputs": []
    },
    {
      "cell_type": "markdown",
      "source": [
        "Now assign 60 to B.\n",
        "<br>\n",
        "Run the cell to verify your work."
      ],
      "metadata": {
        "id": "QNdHWWFODT6p"
      }
    },
    {
      "cell_type": "code",
      "source": [
        "B = 60"
      ],
      "metadata": {
        "id": "FIlEJNaDDhye"
      },
      "execution_count": null,
      "outputs": []
    },
    {
      "cell_type": "markdown",
      "source": [
        "We have now defined 2 variables. We have assigned vales for A and B.\n",
        "<br>\n",
        "Now we are going to do some basic math. Add the 2 variables together and run the cell.\n",
        "\n",
        "**Inside a notebook you dont have to use print you can just add the variables*"
      ],
      "metadata": {
        "id": "eL2l8tARDlaV"
      }
    },
    {
      "cell_type": "code",
      "source": [
        "A + B"
      ],
      "metadata": {
        "colab": {
          "base_uri": "https://localhost:8080/"
        },
        "id": "R-5XhkYcD-dT",
        "outputId": "2854e896-89b3-4e5a-9329-b2de889c1a20"
      },
      "execution_count": null,
      "outputs": [
        {
          "output_type": "execute_result",
          "data": {
            "text/plain": [
              "100"
            ]
          },
          "metadata": {},
          "execution_count": 33
        }
      ]
    },
    {
      "cell_type": "markdown",
      "source": [
        "Now lets subtract the 2 variables and run the cell."
      ],
      "metadata": {
        "id": "5NJpQ0LwHX7a"
      }
    },
    {
      "cell_type": "code",
      "source": [
        "A - B"
      ],
      "metadata": {
        "colab": {
          "base_uri": "https://localhost:8080/"
        },
        "id": "7VLjV5uAHYGy",
        "outputId": "1f71d98a-8b11-4627-c536-3af7d290c3c2"
      },
      "execution_count": null,
      "outputs": [
        {
          "output_type": "execute_result",
          "data": {
            "text/plain": [
              "-20"
            ]
          },
          "metadata": {},
          "execution_count": 34
        }
      ]
    },
    {
      "cell_type": "markdown",
      "source": [
        "In python code reads top to bottom. So if we reassign B to 40 it will be 40 untill we change it to somehting else.\n",
        "\n",
        "*This means its imortant to name variables with good names so you dont reuse them.*\n",
        "\n",
        "\n",
        "---\n",
        "\n"
      ],
      "metadata": {
        "id": "UZ72edHiEfep"
      }
    },
    {
      "cell_type": "markdown",
      "source": [
        "<a id=\"#Data_Types\"></a>\n",
        "## Data Types"
      ],
      "metadata": {
        "id": "fFPSw82EHRCE"
      }
    },
    {
      "cell_type": "markdown",
      "source": [
        "| Example\t| Data Type\t|\n",
        "| --- | ---|\n",
        "| x = \"Hello World\"\t| str |\n",
        "| x = 20\t| int |\n",
        "| x = 20.5 | float |\n",
        "| x = [\"apple\", \"banana\", \"cherry\"] | list |\n",
        "| x = (\"apple\", \"banana\", \"cherry\") | tuple |\n",
        "| x = range(6) | range |\n",
        "| x = {\"name\" : \"John\", \"age\" : 36} | dict |\n",
        "| x = True | bool |"
      ],
      "metadata": {
        "id": "9bYTI4dvFh5T"
      }
    },
    {
      "cell_type": "markdown",
      "source": [
        "By defualt python will make an attempt to assign the proper data type to a value. It doesnt always get it right so in good pratice you can assign the type when you define the variable.\n",
        "<br>\n",
        "<br>\n",
        "Assign A as an int with the value of 40."
      ],
      "metadata": {
        "id": "Cb-q46yiH1FU"
      }
    },
    {
      "cell_type": "code",
      "source": [
        "A = int(40)"
      ],
      "metadata": {
        "id": "x4DF2zeDMEim"
      },
      "execution_count": null,
      "outputs": []
    },
    {
      "cell_type": "markdown",
      "source": [
        "we will you the `type()` function to verify we did it correct.  "
      ],
      "metadata": {
        "id": "17sW4YjWMevm"
      }
    },
    {
      "cell_type": "code",
      "source": [
        "print(type(A))"
      ],
      "metadata": {
        "colab": {
          "base_uri": "https://localhost:8080/"
        },
        "id": "QjcpLJc1MhVh",
        "outputId": "78fa8feb-0235-442d-873a-8383a1a41c15"
      },
      "execution_count": null,
      "outputs": [
        {
          "output_type": "stream",
          "name": "stdout",
          "text": [
            "<class 'int'>\n"
          ]
        }
      ]
    },
    {
      "cell_type": "markdown",
      "source": [
        "Using what we learned, convert B to a float and assign its value to 60."
      ],
      "metadata": {
        "id": "XrJnka-7MwyN"
      }
    },
    {
      "cell_type": "code",
      "source": [
        "B = float(60)\n",
        "print(type(B))"
      ],
      "metadata": {
        "colab": {
          "base_uri": "https://localhost:8080/"
        },
        "id": "zc9JijJwM73C",
        "outputId": "c5cf2b51-dab2-44a3-bfce-99b321b288dd"
      },
      "execution_count": null,
      "outputs": [
        {
          "output_type": "stream",
          "name": "stdout",
          "text": [
            "<class 'float'>\n"
          ]
        }
      ]
    },
    {
      "cell_type": "markdown",
      "source": [
        "Lets now add A and B together. But lets do this by assigning A+B to the variable C."
      ],
      "metadata": {
        "id": "ncYQuRBtNlhK"
      }
    },
    {
      "cell_type": "code",
      "source": [
        "C = A + B\n",
        "C"
      ],
      "metadata": {
        "colab": {
          "base_uri": "https://localhost:8080/"
        },
        "id": "Dn8qF_yDNvoZ",
        "outputId": "06712782-143e-4c9e-9c2b-86f94c11fb62"
      },
      "execution_count": null,
      "outputs": [
        {
          "output_type": "execute_result",
          "data": {
            "text/plain": [
              "100.0"
            ]
          },
          "metadata": {},
          "execution_count": 38
        }
      ]
    },
    {
      "cell_type": "markdown",
      "source": [
        "Lets also get the returned type of C."
      ],
      "metadata": {
        "id": "0DwUM4I0OVN2"
      }
    },
    {
      "cell_type": "code",
      "source": [
        "print(type(C))"
      ],
      "metadata": {
        "colab": {
          "base_uri": "https://localhost:8080/"
        },
        "id": "tzAwHzBfOdLu",
        "outputId": "c8ce153c-63b5-478d-d403-3f3e0f5f8456"
      },
      "execution_count": null,
      "outputs": [
        {
          "output_type": "stream",
          "name": "stdout",
          "text": [
            "<class 'float'>\n"
          ]
        }
      ]
    },
    {
      "cell_type": "code",
      "source": [],
      "metadata": {
        "id": "ab_RXVpKQHhE"
      },
      "execution_count": null,
      "outputs": []
    },
    {
      "cell_type": "markdown",
      "source": [
        "As you can see it's a float python did the work for us on assigning its type based on the vriables. If we wanted a `int` returned we would need to assign it.\n",
        "\n",
        "\n",
        "---\n",
        "\n"
      ],
      "metadata": {
        "id": "32VasFXkOjiP"
      }
    },
    {
      "cell_type": "markdown",
      "source": [
        "<a id=\"Conditionals\"></a>\n",
        "## Conditionals\n",
        "\n",
        "| Conditional | Example |\n",
        "| :--- | --- |\n",
        "|Equals: | a == b |\n",
        "|Not Equals: | a != b |\n",
        "|Less than: | a < b |\n",
        "|Less than or equal to: | a <= b |\n",
        "|Greater than: | a > b |\n",
        "|Greater than or equal to: | a >= b |\n"
      ],
      "metadata": {
        "id": "e78LunrGPBG0"
      }
    },
    {
      "cell_type": "markdown",
      "source": [
        "Conditionals will be important in the Data Analytics aspect. We will get started with some basic conditionals using our variables from above."
      ],
      "metadata": {
        "id": "OIbaOwPiQKXu"
      }
    },
    {
      "cell_type": "code",
      "source": [
        "if A > B:\n",
        "  print(\"A is greater than B\")"
      ],
      "metadata": {
        "id": "uu_HCYptQrps"
      },
      "execution_count": null,
      "outputs": []
    },
    {
      "cell_type": "markdown",
      "source": [
        "Notice we did not get a message because B is greater than A.\n",
        "<br>\n",
        "<br>\n",
        "A = 40\n",
        "<br>\n",
        "B = 60\n",
        "<br>\n",
        "<br>\n",
        "Use the same code as above and and flip the variables. Be sure to edit the print statement to make it correct."
      ],
      "metadata": {
        "id": "Okul_jknRCfK"
      }
    },
    {
      "cell_type": "code",
      "source": [
        "if B > A:\n",
        "  print(\"B is greater than A\")"
      ],
      "metadata": {
        "colab": {
          "base_uri": "https://localhost:8080/"
        },
        "id": "rq7rtFX2RfmF",
        "outputId": "0e49bb75-7bfe-488e-970c-669454ae7329"
      },
      "execution_count": null,
      "outputs": [
        {
          "output_type": "stream",
          "name": "stdout",
          "text": [
            "B is greater than A\n"
          ]
        }
      ]
    },
    {
      "cell_type": "markdown",
      "source": [
        "Its not the most effecient way to do this.  So lets add a `else:` condition to do this in one block of code.   "
      ],
      "metadata": {
        "id": "KTWUXONyTjpK"
      }
    },
    {
      "cell_type": "code",
      "source": [
        "if A > B:\n",
        "  print(\"A is greater than B\")\n",
        "else:\n",
        "  print(\"B is greater than A\")"
      ],
      "metadata": {
        "colab": {
          "base_uri": "https://localhost:8080/"
        },
        "id": "DEAvgbi0ULqJ",
        "outputId": "d7a33542-8dc9-421c-b1bf-da6920646af4"
      },
      "execution_count": null,
      "outputs": [
        {
          "output_type": "stream",
          "name": "stdout",
          "text": [
            "B is greater than A\n"
          ]
        }
      ]
    },
    {
      "cell_type": "markdown",
      "source": [
        "This is a step up but, what happens if A and B are the same value? Lets correct our code by covering that hole in our code. We will add a `elif A == B:` condition between the `if` and `else:`"
      ],
      "metadata": {
        "id": "fmCkWBjxUgXM"
      }
    },
    {
      "cell_type": "code",
      "source": [
        "if A > B:\n",
        "  print(\"A is greater than B\")\n",
        "elif A == B:\n",
        "  print(\"A is equal to B\")\n",
        "else:\n",
        "  print(\"B is greater than A\")"
      ],
      "metadata": {
        "colab": {
          "base_uri": "https://localhost:8080/"
        },
        "id": "nbyDGyJvVeBT",
        "outputId": "09e6399e-9dfc-4194-a760-ccef6bc9148b"
      },
      "execution_count": null,
      "outputs": [
        {
          "output_type": "stream",
          "name": "stdout",
          "text": [
            "B is greater than A\n"
          ]
        }
      ]
    },
    {
      "cell_type": "markdown",
      "source": [
        "Lets put everything we learned together:\n",
        "- Define a value the variables **X** & **Y**\n",
        "- Make sure they are assigned as an `int`\n",
        "- Then replicate the if, elif, and else statement\n",
        "- once you have to working change the values of **X** & **Y** to verify your code is working correctly."
      ],
      "metadata": {
        "id": "cUj_Mzr4WDMP"
      }
    },
    {
      "cell_type": "code",
      "source": [
        "X = int(2)\n",
        "Y = int(2)\n",
        "\n",
        "if X > Y:\n",
        "  print(\"X is greater than Y\")\n",
        "elif X == Y:\n",
        "  print(\"X is equal to Y\")\n",
        "else:\n",
        "  print(\"Y is greater than X\")"
      ],
      "metadata": {
        "colab": {
          "base_uri": "https://localhost:8080/"
        },
        "id": "1NNodOLrWHqE",
        "outputId": "019c287d-bc1f-4189-b48a-caa80c0d4cba"
      },
      "execution_count": null,
      "outputs": [
        {
          "output_type": "stream",
          "name": "stdout",
          "text": [
            "X is equal to Y\n"
          ]
        }
      ]
    },
    {
      "cell_type": "markdown",
      "source": [
        "<a id=\"Links\"></a>\n",
        "## Links\n",
        "\n",
        "[Variables](https://www.w3schools.com/python/python_variables.asp)\n",
        "<br>\n",
        "[Data Types](https://www.w3schools.com/python/python_datatypes.asp)\n",
        "<br>\n",
        "[Conditions](https://www.w3schools.com/python/python_conditions.asp)"
      ],
      "metadata": {
        "id": "i7gf6CjrY5St"
      }
    },
    {
      "cell_type": "markdown",
      "source": [
        "\n",
        "\n",
        "---\n",
        "\n",
        "# END\n",
        "\n",
        "\n",
        "\n",
        "---\n",
        "\n"
      ],
      "metadata": {
        "id": "KrhPMubAYWJI"
      }
    }
  ]
}